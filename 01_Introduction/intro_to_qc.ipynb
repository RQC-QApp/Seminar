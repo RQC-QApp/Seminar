{
 "cells": [
  {
   "cell_type": "markdown",
   "metadata": {},
   "source": [
    "<table>\n",
    "    <tr>\n",
    "        <th><img src=\"../img/rqc.png\" href=\"http://www.rqc.ru/\" width=\"150px\"></th>\n",
    "        <th colspan=\"3\" align=left style=\"font-weight:normal\">\n",
    "            <p>• Anton Karazeev: <a href=\"mailto:a.karazeev@rqc.ru\">a.karazeev@rqc.ru</a> or <a href=\"https://t.me/akarazeev\">t.me/akarazeev</a></p>\n",
    "            <p>• Based on <a href=\"http://pyquil.readthedocs.io/en/latest/intro.html\">Introduction to Quantum Computing</a></p>\n",
    "            <p>• The latest version of this notebook is available <a href=\"https://github.com/RQC-QApp/Seminars\">here</a></p>\n",
    "        </th>\n",
    "    </tr>\n",
    "</table>"
   ]
  },
  {
   "cell_type": "markdown",
   "metadata": {},
   "source": [
    "# От классического бита к кубиту / From Bit to Qubit"
   ]
  },
  {
   "cell_type": "markdown",
   "metadata": {},
   "source": [
    "## Вероятностные биты как векторные пространства / Probabilistic Bits as Vector Spaces\n",
    "\n",
    "Возможные результаты измерения бита представим в виде ортонормированных базисных векторов $\\overrightarrow{0}$ и $\\overrightarrow{1}$. И назовём их **исходами**.\n",
    "\n",
    "Например, в двумерном пространстве базисные векторы можно представить следующим образом: $\\overrightarrow{0} = \\begin{pmatrix} 1 \\\\ 0 \\\\ \\end{pmatrix}$ и $\\overrightarrow{1} = \\begin{pmatrix} 0 \\\\ 1 \\\\ \\end{pmatrix}$.\n",
    "\n",
    "Выбор обусловлен следующим:\n",
    "- Они **нормированы** (их длины равны единице):\n",
    "\n",
    "    $(\\overrightarrow{0}, \\overrightarrow{0}) = \\overrightarrow{0}^T \\cdot \\overrightarrow{0} = \\begin{pmatrix} 1 & 0 \\end{pmatrix} \\begin{pmatrix} 1 \\\\ 0 \\\\ \\end{pmatrix} = 1 \\cdot 1 + 0 \\cdot 0 = 1 \\rightarrow \\text{length}\\left(\\overrightarrow{0}\\right) = \\sqrt{1} = 1$,\n",
    "    \n",
    "    $(\\overrightarrow{1}, \\overrightarrow{1}) = \\overrightarrow{1}^T \\cdot \\overrightarrow{1} = \\begin{pmatrix} 0 & 1 \\end{pmatrix} \\begin{pmatrix} 0 \\\\ 1 \\end{pmatrix} = 0 \\cdot 0 + 1 \\cdot 1 = 1 \\rightarrow \\text{length}\\left(\\overrightarrow{1}\\right) = \\sqrt{1} = 1$;\n",
    "\n",
    "- И **ортогональны** (скалярное произведение равно $0$):\n",
    "\n",
    "    $(\\overrightarrow{1}, \\overrightarrow{0}) = (\\overrightarrow{0}, \\overrightarrow{1}) = \\overrightarrow{0}^T \\cdot \\overrightarrow{1} = \\begin{pmatrix} 1 & 0 \\\\ \\end{pmatrix} \\begin{pmatrix} 0 \\\\ 1 \\\\ \\end{pmatrix} = 1 \\cdot 0 + 0 \\cdot 1 = 0$.\n",
    "\n",
    "<div class=\"alert\" style=\"border: 0px; border-left: 3px solid #F0AD4E; color: black; background-color: #FFF1E3\">\n",
    "<p style=\"color: #9B5831;\"><b>Обозначения</b></p>\n",
    "\n",
    "$\\overrightarrow{v}^T$ означает **транспонирование** вектора $\\overrightarrow{v}$.\n",
    "\n",
    "Операция $\\left(\\overrightarrow{u}, \\overrightarrow{v}\\right)$ называется операцией **скалярного произведения** векторов $\\overrightarrow{u}$ и $\\overrightarrow{v}$.\n",
    "\n",
    "**Длиной** вектора $\\overrightarrow{v}$ называется величина $\\left\\vert\\overrightarrow{v}\\right\\vert = \\sqrt{\\left(\\overrightarrow{v}, \\overrightarrow{v}\\right)}$.\n",
    "</div>\n",
    "\n",
    "<div class=\"alert alert-success\" style=\"border: 0px; border-left: 3px solid #119a68; color: black; background-color: #daf0e9\">\n",
    "<p style=\"color: #119a68;\"><b>Примеры</b></p>\n",
    "\n",
    "**Транспонирование**: пусть $\\overrightarrow{v} = \\begin{pmatrix} 1 \\\\ 0 \\end{pmatrix}$, тогда $\\overrightarrow{v}^T = \\begin{pmatrix} 1 & 0 \\end{pmatrix}$. В случае с матрицами: пусть $X = \\begin{pmatrix} 1 & 2 \\\\ 3 & 4 \\end{pmatrix}$, тогда $X^T = \\begin{pmatrix} 1 & 3 \\\\ 2 & 4 \\end{pmatrix}$.\n",
    "\n",
    "**Скалярное произведение**: пусть $\\overrightarrow{u} = \\begin{pmatrix} u_1 \\\\ u_2 \\end{pmatrix}, \\overrightarrow{v} = \\begin{pmatrix} v_1 \\\\ v_2 \\end{pmatrix}$, тогда $\\left(\\overrightarrow{u}, \\overrightarrow{v}\\right) = \\overrightarrow{u}^T \\cdot \\overrightarrow{v} = \\begin{pmatrix} u_1 & u_2 \\end{pmatrix} \\begin{pmatrix} v_1 \\\\ v_2 \\end{pmatrix} = u_1 \\cdot v_1 + u_2 \\cdot v_2$.\n",
    "\n",
    "</div>\n",
    "\n",
    "Эти исходы ($\\overrightarrow{0}$ и $\\overrightarrow{1}$) образуют двумерное векторное пространство, которое представляет **вероятностный бит**: $\\overrightarrow{v} = a\\cdot\\overrightarrow{0} + b\\cdot\\overrightarrow{1}$, где $a$ и $b$ - вероятности того, что бит принимает значение 0 или 1 соответственно. Очевидно, что $a + b$ должно равняться $1$.\n",
    "\n",
    "**Состояние** такой системы может быть представлено двумерным вектором на плоскости:"
   ]
  },
  {
   "cell_type": "code",
   "execution_count": 1,
   "metadata": {},
   "outputs": [
    {
     "data": {
      "image/png": "[encoded data removed]",
      "text/plain": [
       "<matplotlib.figure.Figure at 0x10470fc88>"
      ]
     },
     "metadata": {},
     "output_type": "display_data"
    }
   ],
   "source": [
    "import numpy as np\n",
    "import matplotlib.pyplot as plt\n",
    "\n",
    "outcome_0 = np.array([1.0, 0.0])\n",
    "outcome_1 = np.array([0.0, 1.0])\n",
    "a = 0.75\n",
    "b = 0.25\n",
    "\n",
    "assert a + b == 1\n",
    "\n",
    "prob_bit = a * outcome_0 + b * outcome_1\n",
    "\n",
    "X, Y = prob_bit\n",
    "\n",
    "plt.figure(figsize=(5,5))\n",
    "plt.plot([a, 0], [b, b], '--', color='orange')\n",
    "plt.plot([a, a], [b, 0], '--', color='green')\n",
    "\n",
    "ax = plt.gca()\n",
    "ax.quiver(X, Y, angles='xy', scale_units='xy', scale=1)\n",
    "ax.set_xlim([0,1])\n",
    "ax.set_ylim([0,1])\n",
    "\n",
    "ax.quiver(0, Y, angles='xy', scale_units='xy', scale=1, color='green',\n",
    "          label='Проекция на направление $\\overrightarrow{1}$')\n",
    "ax.quiver(X, 0, angles='xy', scale_units='xy', scale=1, color='orange',\n",
    "          label='Проекция на направление $\\overrightarrow{0}$')\n",
    "\n",
    "plt.xlabel('$\\overrightarrow{0}$', fontsize=15)\n",
    "plt.ylabel('$\\overrightarrow{1}$', fontsize=15)\n",
    "plt.title('$\\overrightarrow{v} = {a}\\cdot\\overrightarrow{0} + {b}\\cdot\\overrightarrow{1}$'.format(0, 1, v='v',\n",
    "                                                                                                  a=a, b=b))\n",
    "\n",
    "plt.legend()\n",
    "\n",
    "plt.draw()\n",
    "plt.show()"
   ]
  },
  {
   "cell_type": "markdown",
   "metadata": {},
   "source": [
    "По заданному вектору-состоянию можно найти вероятности исходов $0$ и $1$, если спроецировать $\\overrightarrow{v}$ на базисные векторы:\n",
    "$$Pr(0) = (\\overrightarrow{v}, \\overrightarrow{0}) = \\overrightarrow{v}^T \\cdot \\overrightarrow{0} = a,$$\n",
    "$$Pr(1) = (\\overrightarrow{v}, \\overrightarrow{1}) = \\overrightarrow{v}^T \\cdot \\overrightarrow{1} = b.$$\n",
    "\n",
    "<div class=\"alert\" style=\"border: 0px; border-left: 3px solid #F0AD4E; color: black; background-color: #FFF1E3\">\n",
    "<p style=\"color: #9B5831;\">**Обозначения**</p>\n",
    "\n",
    "**Проекцией** вектора $\\overrightarrow{v}$ на направление $\\overrightarrow{n}$ называется $Pr_{\\overrightarrow{n}}(\\overrightarrow{v}) = \\frac{\\left(\\overrightarrow{v}, \\overrightarrow{n}\\right)}{\\left\\vert\\overrightarrow{n}\\right\\vert}$.\n",
    "\n",
    "В случае с проекцией на нормированный вектор (например, $\\overrightarrow{0}$) знаменатель равен 1, следовательно, $Pr_{\\overrightarrow{0}}(\\overrightarrow{v}) = \\left(\\overrightarrow{v}, \\overrightarrow{0}\\right)$.\n",
    "\n",
    "</div>\n",
    "\n",
    "<div class=\"alert\" style=\"border: 0px; border-left: 3px solid #119a68; color: black; background-color: #daf0e9\">\n",
    "<p style=\"color: #119a68;\">**Примеры**</p>\n",
    "\n",
    "Пусть $\\overrightarrow{v} = \\begin{pmatrix} a \\\\ a \\end{pmatrix}$, тогда $Pr_{\\overrightarrow{0}}(\\overrightarrow{v}) = \\left(\\overrightarrow{v}, \\overrightarrow{0}\\right) = \\overrightarrow{v}^T \\cdot \\overrightarrow{0} = \\begin{pmatrix} a & b \\end{pmatrix} \\begin{pmatrix} 1 \\\\ 0 \\end{pmatrix} = a \\cdot 1 + b \\cdot 0 = a$.\n",
    "\n",
    "</div>"
   ]
  },
  {
   "cell_type": "code",
   "execution_count": 2,
   "metadata": {},
   "outputs": [
    {
     "name": "stdout",
     "output_type": "stream",
     "text": [
      "Получаем, что a=0.75\n",
      "Получаем, что b=0.25\n"
     ]
    }
   ],
   "source": [
    "print(\"Получаем, что a={}\".format(prob_bit.dot(outcome_0)))\n",
    "print(\"Получаем, что b={}\".format(prob_bit.dot(outcome_1)))"
   ]
  },
  {
   "cell_type": "markdown",
   "metadata": {},
   "source": [
    "## Обозначения Дирака / Dirac notation\n",
    "\n",
    "$\\overrightarrow{v} = |v\\rangle$ - вектор **кет**,\n",
    "\n",
    "$\\overrightarrow{v}^\\dagger = \\overrightarrow{v}^{*T} = \\langle v|$ - вектор **бра**,\n",
    "\n",
    "$\\overrightarrow{u}^\\dagger \\cdot \\overrightarrow{v} = \\langle u | v \\rangle$ - скалярное произведение векторов **бра** и **кет**.\n",
    "\n",
    "Можно переписать формулу для измерения вероятности:\n",
    "$$Pr(0) = \\langle v | 0 \\rangle = a,$$\n",
    "$$Pr(1) = \\langle v | 1 \\rangle = b.$$\n",
    "\n",
    "В текущем примере $a$ и $b$ действительные числа, но на самом деле в \"настоящих\" бра и кет векторах компоненты являются комплексными числами ${(\\in\\mathbb{C})}$.\n",
    "\n",
    "<div class=\"alert\" style=\"border: 0px; border-left: 3px solid #F0AD4E; color: black; background-color: #FFF1E3\">\n",
    "<p style=\"color: #9B5831;\">**Обозначения**</p>\n",
    "\n",
    "**Комплексное сопряжение** числа $z = a + ib$ есть число $\\overline{z} = z^* = a - ib$, где $z\\in\\mathbb{C}$, $a,b\\in\\mathbb{R}$.\n",
    "\n",
    "**Длиной** или **модулем** комплексного числа $z = a + ib$ называется действительное число $\\left\\vert{z}\\right\\vert = \\sqrt{z \\cdot z^*} = \\sqrt{a^2 + b^2} \\in\\mathbb{R}$.\n",
    "\n",
    "Оператор $^\\dagger$ называется **эрмитовым сопряжением**.\n",
    "</div>\n",
    "\n",
    "<div class=\"alert alert-success\" style=\"border: 0px; border-left: 3px solid #119a68; color: black; background-color: #daf0e9\">\n",
    "<p style=\"color: #119a68;\">**Примеры**</p>\n",
    "\n",
    "Пусть $|v\\rangle = \\begin{pmatrix} -i \\\\ 1 \\end{pmatrix}$, тогда $\\langle v| = \\overrightarrow{v}^\\dagger = \\begin{pmatrix} +i & 1  \\end{pmatrix}$.\n",
    "\n",
    "Скалярное произведение: $\\langle v | v \\rangle = \\begin{pmatrix} +i & 1  \\end{pmatrix} \\cdot \\begin{pmatrix} -i \\\\ 1  \\end{pmatrix} = 1 + 1 = 2$.\n",
    "</div>\n",
    "\n",
    "## Тензорное произведение / [Kronecker product](https://en.wikipedia.org/wiki/Kronecker_product)\n",
    "\n",
    "$|00\\rangle = |0\\rangle \\otimes |0\\rangle = \\begin{pmatrix} 1 \\\\ 0 \\\\ \\end{pmatrix} \\otimes \\begin{pmatrix} 1 \\\\ 0 \\\\ \\end{pmatrix} = \\begin{pmatrix} 1 \\cdot \\begin{pmatrix} 1 \\\\ 0 \\\\ \\end{pmatrix} \\\\ 0 \\cdot \\begin{pmatrix} 1 \\\\ 0 \\\\ \\end{pmatrix} \\\\ \\end{pmatrix} = \\begin{pmatrix} 1 \\\\ 0 \\\\ 0 \\\\ 0 \\\\ \\end{pmatrix}$\n",
    "\n",
    "$|01\\rangle = |0\\rangle \\otimes |1\\rangle = \\begin{pmatrix} 1 \\\\ 0 \\\\ \\end{pmatrix} \\otimes \\begin{pmatrix} 0 \\\\ 1 \\\\ \\end{pmatrix} = \\begin{pmatrix} 1 \\cdot \\begin{pmatrix} 0 \\\\ 1 \\\\ \\end{pmatrix} \\\\ 0 \\cdot \\begin{pmatrix} 0 \\\\ 1 \\\\ \\end{pmatrix} \\\\ \\end{pmatrix} = \\begin{pmatrix} 0 \\\\ 1 \\\\ 0 \\\\ 0 \\\\ \\end{pmatrix}$\n",
    "\n",
    "$\\ldots$\n",
    "\n",
    "## Несколько вероятностных бит / Multiple Probabilistic Bits\n",
    "\n",
    "Рассмотрим на примере двух монеток $u$ и $v$, орёл и решку обозначим за $0$ и $1$.\n",
    "\n",
    "Запишем состояния:\n",
    "\n",
    "$|u\\rangle = \\frac{1}{2} |0_u\\rangle + \\frac{1}{2} |1_u\\rangle$\n",
    "\n",
    "$|v\\rangle = \\frac{1}{2} |0_v\\rangle + \\frac{1}{2} |1_v\\rangle$, где $1_u$ обозначает исход $1$ у монетки $u$.\n",
    "\n",
    "У системы из двух монеток есть 4 варианта исходов: $\\left\\{ 0_u 0_v, 0_u 1_v, 1_u 0_v, 1_u 1_v \\right\\}$ - это и есть базис состояний четырёхмерного векторного пространства.\n",
    "\n",
    "**Комбинированное состояние** системы можно выразить через тензорное произведение: $|uv\\rangle = |u\\rangle \\otimes |v\\rangle = \\frac{1}{4}|0_u 0_v \\rangle + \\frac{1}{4}|0_u 1_v \\rangle + \\frac{1}{4}|1_u 0_v\\rangle + \\frac{1}{4}|1_u 1_v\\rangle$.\n",
    "\n",
    "Таким образом, **комбинированное пространство** это просто тензорное произведение всех пар базисных векторов меньших пространств.\n",
    "\n",
    "Можно встретить и такое обозначение: $\\otimes_{i=0}^{n-1}|v_i\\rangle = |v_0\\rangle \\otimes |v_1\\rangle \\otimes \\ldots \\otimes |v_{n-1}\\rangle = |v_0 v_1 \\ldots v_{n-1}\\rangle$\n",
    "\n",
    "<div class=\"alert alert-success\" style=\"border: 0px; border-left: 3px solid #119a68; color: black; background-color: #daf0e9\">\n",
    "<p style=\"color: #119a68;\">^-- **Классика** --^</p>\n",
    "</div>\n",
    "\n",
    "<div class=\"alert alert-success\" style=\"border: 0px; border-left: 3px solid #119a68; color: black; background-color: #daf0e9\">\n",
    "<p style=\"color: #119a68;\">v-- **Квантовая Механика начинается здесь** --v</p>\n",
    "</div>"
   ]
  },
  {
   "cell_type": "markdown",
   "metadata": {},
   "source": [
    "## Кубиты / Qubits\n",
    "\n",
    "**Кубит** является квантовым аналогом классического бита, у него тоже есть два возможных исхода после измерения.\n",
    "\n",
    "**Система** из одного кубита это двумерное **комплексное** векторное пространство, а **состояние** кубита - комплексный вектор в этом пространстве (с помощью **сферы Блоха** можно как раз представить состояние кубита в векторном пространстве, но про это чуть позже).\n",
    "\n",
    "Задаём пространство исходов: $\\left\\{ |0\\rangle, |1\\rangle \\right\\}$, тогда состояние произвольного кубита запишется следующим образом: $\\alpha |0\\rangle + \\beta |1\\rangle$ (до этого было $a\\cdot\\overrightarrow{0} + b\\cdot\\overrightarrow{1}$).\n",
    "\n",
    "Так как коэффициенты могут быть мнимыми, то они не могут интерпретироваться как вероятности соответствующих исходов (чтобы получить действительное число - необходимо возводить в квадрат). Вместо этого перепишем формулы для вычисления вероятностей:\n",
    "$$Pr(0) = \\left\\vert\\langle v | 0 \\rangle\\right\\vert^2 = \\left\\vert\\alpha\\right\\vert^2,$$\n",
    "$$Pr(1) = \\left\\vert\\langle v | 1 \\rangle\\right\\vert^2 = \\left\\vert\\beta\\right\\vert^2,$$\n",
    "$$\\left\\vert\\alpha\\right\\vert^2 + \\left\\vert\\beta\\right\\vert^2 = 1,  \\alpha, \\beta \\in \\mathbb{C}.$$\n",
    "\n",
    "## Сфера Блоха / Bloch Sphere\n",
    "\n",
    "Этот переход к комплескным векторам означает слудующее - вместо того, чтобы представлять вектор состояния на плоскости, мы будем представлять его на сфере.\n",
    "\n",
    "<img src=\"img/bloch.png\" width=500px>\n",
    "\n",
    "<p style=\"text-align: center;\"><a href=\"https://www.researchgate.net/publication/236883187_Quantum_Search_Algorithms_Quantum_Wireless_and_a_Low-Complexity_Maximum_Likelihood_Iterative_Quantum_Multi-User_Detector_Design\">Source</a></p>\n",
    "\n",
    "Состояние из нескольких кубит может быть точно так же представлено, если взять тензорные произведения пространств и состояний. Таким образом, система из $n$ кубит будет иметь $2^n$ возможных состояний."
   ]
  },
  {
   "cell_type": "markdown",
   "metadata": {},
   "source": [
    "## Операции над кубитами / Qubits Operations\n",
    "\n",
    "### На примере IBM Q Experience [Composer](https://quantumexperience.ng.bluemix.net/qx/editor)\n",
    "\n",
    "<img src=\"img/composer.jpg\" width=\"300px\">\n",
    "\n",
    "Так выглядит простейшая квантовая цепь, состоящая из гейтов Адамара ($H$) и $CNOT$ (**Гейт** == Операция == Матрица). В конце стоят блоки, которые отвечают за **измерение** состояния кубит в базисе $\\sigma^z$.\n",
    "\n",
    "<img src=\"img/simulation.jpg\" width=\"600px\">\n",
    "\n",
    "<center>Результаты симуляции</center>\n",
    "\n",
    "Начнём с простых операторов: тождественный оператор $I = \\begin{pmatrix} 1 & 0 \\\\ 0 & 1 \\end{pmatrix}$ и NOT-оператор $X = \\begin{pmatrix} 0 & 1 \\\\ 1 & 0 \\end{pmatrix}$.\n",
    "\n",
    "Квантовые состояния могут быть представлены как комплексные векторы на сфере Блоха, а квантовые операции как матрицы со следующими свойствами:\n",
    "- Обратимость ($U^{-1} = U^\\dagger = U^{*T}$),\n",
    "- Если их применить к вектору, лежащему на сфере Блоха, то результирующий вектор тоже будет лежать на сфере Блоха.\n",
    "\n",
    "Матрицы, которые удовлетворяют указанным свойствам, называются **унитарными**.\n",
    "\n",
    "Рассмотрим действие тождественного оператора:\n",
    "$$I |0\\rangle = \\begin{pmatrix} 1 & 0 \\\\ 0 & 1 \\end{pmatrix} \\begin{pmatrix} 1 \\\\ 0 \\end{pmatrix} = \\begin{pmatrix} 1 \\\\ 0 \\end{pmatrix} = |0\\rangle,$$\n",
    "$$I |1\\rangle = \\begin{pmatrix} 1 & 0 \\\\ 0 & 1 \\end{pmatrix} \\begin{pmatrix} 0 \\\\ 1 \\end{pmatrix} = \\begin{pmatrix} 0 \\\\ 1 \\end{pmatrix} = |1\\rangle.$$\n",
    "\n",
    "Действие оператора NOT:\n",
    "$$X |0\\rangle = \\begin{pmatrix} 0 & 1 \\\\ 1 & 0 \\end{pmatrix} \\begin{pmatrix} 1 \\\\ 0 \\end{pmatrix} = \\begin{pmatrix} 0 \\\\ 1 \\end{pmatrix} = |1\\rangle,$$\n",
    "$$X |1\\rangle = \\begin{pmatrix} 0 & 1 \\\\ 1 & 0 \\end{pmatrix} \\begin{pmatrix} 0 \\\\ 1 \\end{pmatrix} = \\begin{pmatrix} 1 \\\\ 0 \\end{pmatrix} = |0\\rangle.$$"
   ]
  },
  {
   "cell_type": "markdown",
   "metadata": {},
   "source": [
    "## Операторы Паули / Pauli Operators\n",
    "\n",
    "$X = \\sigma_1 = \\begin{pmatrix} 0 & 1 \\\\ 1 & 0 \\end{pmatrix}$, $Y = \\sigma_2 = \\begin{pmatrix} 0 & -i \\\\ i & 0 \\end{pmatrix}$, $Z = \\sigma_3 = \\begin{pmatrix} 1 & 0 \\\\ 0 & -1 \\end{pmatrix}$.\n",
    "\n",
    "Матрицы Паули осуществляют поворот на 180 градусов вектора, который представляет состояние кубита на сфере Блоха. Например, гейт $X$ осуществляет поворот вокруг оси $x$ на 180 градусов"
   ]
  },
  {
   "cell_type": "markdown",
   "metadata": {},
   "source": [
    "## Операции над несколькими кубитами / Multi-Qubit Operations\n",
    "\n",
    "Наиболее распространённым примером служит гейт Controlled-NOT (CNOT), который применяется к двум кубитам: $CNOT = \\begin{pmatrix} 1 & 0 & 0 & 0 \\\\ 0 & 1 & 0 & 0 \\\\ 0 & 0 & 0 & 1 \\\\ 0 & 0 & 1 & 0 \\end{pmatrix}$\n",
    "\n",
    "Состояние второго кубита меняется на противоположное тогда и только тогда, когда состояние первого кубита $|1\\rangle$.\n",
    "\n",
    "Рассмотрим действие оператора $CNOT$ на двухкубитные состояния:\n",
    "\n",
    "$CNOT |00\\rangle = \\begin{pmatrix} 1 & 0 & 0 & 0 \\\\ 0 & 1 & 0 & 0 \\\\ 0 & 0 & 0 & 1 \\\\ 0 & 0 & 1 & 0 \\end{pmatrix} \\begin{pmatrix} 1 \\\\ 0 \\\\ 0 \\\\ 0 \\end{pmatrix} = \\begin{pmatrix} 1 \\\\ 0 \\\\ 0 \\\\ 0 \\end{pmatrix} = |00\\rangle$\n",
    "\n",
    "$CNOT |01\\rangle = \\begin{pmatrix} 1 & 0 & 0 & 0 \\\\ 0 & 1 & 0 & 0 \\\\ 0 & 0 & 0 & 1 \\\\ 0 & 0 & 1 & 0 \\end{pmatrix} \\begin{pmatrix} 0 \\\\ 1 \\\\ 0 \\\\ 0 \\end{pmatrix} = \\begin{pmatrix} 0 \\\\ 1 \\\\ 0 \\\\ 0 \\end{pmatrix} = |01\\rangle$\n",
    "\n",
    "$CNOT |10\\rangle = \\begin{pmatrix} 1 & 0 & 0 & 0 \\\\ 0 & 1 & 0 & 0 \\\\ 0 & 0 & 0 & 1 \\\\ 0 & 0 & 1 & 0 \\end{pmatrix} \\begin{pmatrix} 0 \\\\ 0 \\\\ 1 \\\\ 0 \\end{pmatrix} = \\begin{pmatrix} 0 \\\\ 0 \\\\ 0 \\\\ 1 \\end{pmatrix} = |11\\rangle$\n",
    "\n",
    "$CNOT |11\\rangle = \\begin{pmatrix} 1 & 0 & 0 & 0 \\\\ 0 & 1 & 0 & 0 \\\\ 0 & 0 & 0 & 1 \\\\ 0 & 0 & 1 & 0 \\end{pmatrix} \\begin{pmatrix} 0 \\\\ 0 \\\\ 0 \\\\ 1 \\end{pmatrix} = \\begin{pmatrix} 0 \\\\ 0 \\\\ 1 \\\\ 0 \\end{pmatrix} = |10\\rangle$\n",
    "\n",
    "\n",
    "Другой пример двухкубитного гейта: $SWAP = \\begin{pmatrix} 1 & 0 & 0 & 0 \\\\ 0 & 0 & 1 & 0 \\\\ 0 & 1 & 0 & 0 \\\\ 0 & 0 & 0 & 1 \\end{pmatrix}$, который меняет состояния $|10\\rangle$ и $|01\\rangle$ местами."
   ]
  },
  {
   "cell_type": "markdown",
   "metadata": {},
   "source": [
    "## Гейт Адамара / Hadamard Gate\n",
    "\n",
    "$H = \\frac{1}{\\sqrt{2}}\\begin{pmatrix} 1 & 1 \\\\ 1 & -1 \\end{pmatrix}$:\n",
    "\n",
    "$H|0\\rangle = \\frac{1}{\\sqrt{2}}\\begin{pmatrix} 1 & 1 \\\\ 1 & -1 \\end{pmatrix} \\begin{pmatrix} 1 \\\\ 0 \\end{pmatrix} = \\frac{1}{\\sqrt{2}} \\begin{pmatrix} 1 \\\\ 1 \\end{pmatrix} = \\frac{1}{\\sqrt{2}} \\left(|0\\rangle + |1\\rangle\\right) = |+\\rangle$,\n",
    "\n",
    "$H|1\\rangle = \\frac{1}{\\sqrt{2}}\\begin{pmatrix} 1 & 1 \\\\ 1 & -1 \\end{pmatrix} \\begin{pmatrix} 0 \\\\ 1 \\end{pmatrix} = \\frac{1}{\\sqrt{2}} \\begin{pmatrix} 1 \\\\ -1 \\end{pmatrix} = \\frac{1}{\\sqrt{2}} \\left(|0\\rangle - |1\\rangle\\right) = |-\\rangle$.\n",
    "\n",
    "Можно видеть, что оба вектора таких состояний лежат на \"экваторе\" сферы Блоха. Вероятности обнаружить $0$ или $1$ после измерения одинаковы и равны $\\frac{1}{2}$.\n",
    "\n",
    "Таким образом, кубит в одном из таких состояний представляет монетку, которая равновероятно может упасть на орла или решку."
   ]
  },
  {
   "cell_type": "markdown",
   "metadata": {},
   "source": [
    "## Иерархия: высокоуровневый язык программирования -> низкоуровневый компилятор\n",
    "\n",
    "<img src='img/hierarchy.jpg' width='60%'>\n",
    "<p style=\"text-align: center;\"> <a href=\"https://www.nature.com/articles/nature18648\">Source</a> </p>"
   ]
  },
  {
   "cell_type": "markdown",
   "metadata": {},
   "source": [
    "- [ ] больше про тензорное произведение\n",
    "- [ ] про собственные значения/векторы матриц\n",
    "- [ ] теория про кубиты, про понятие измерения\n",
    "- [ ] про измерения в базисе"
   ]
  }
 ],
 "metadata": {
  "kernelspec": {
   "display_name": "Python 3",
   "language": "python",
   "name": "python3"
  },
  "language_info": {
   "codemirror_mode": {
    "name": "ipython",
    "version": 3
   },
   "file_extension": ".py",
   "mimetype": "text/x-python",
   "name": "python",
   "nbconvert_exporter": "python",
   "pygments_lexer": "ipython3",
   "version": "3.6.4"
  }
 },
 "nbformat": 4,
 "nbformat_minor": 2
}
