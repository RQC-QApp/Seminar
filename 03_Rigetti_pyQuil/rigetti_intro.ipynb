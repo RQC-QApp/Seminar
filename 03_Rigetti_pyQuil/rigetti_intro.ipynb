{
 "cells": [
  {
   "cell_type": "markdown",
   "metadata": {},
   "source": [
    "<table>\n",
    "    <tr>\n",
    "        <th><img src=\"../img/rqc.png\" href=\"http://www.rqc.ru/\" width=\"150px\"></th>\n",
    "        <th colspan=\"3\" align=left style=\"font-weight:normal\">\n",
    "            <p>• Anton Karazeev: [a.karazeev@rqc.ru](mailto:a.karazeev@rqc.ru) or [t.me/akarazeev](t.me/akarazeev)</p>\n",
    "            <p>• Based on [Introduction to Quantum Computing](http://pyquil.readthedocs.io/en/latest/intro.html)</p>\n",
    "            <p>• The latest version of this notebook is available [here](https://github.com/RQC-QApp/Seminars)</p>\n",
    "        </th>\n",
    "    </tr>\n",
    "</table>"
   ]
  },
  {
   "cell_type": "markdown",
   "metadata": {},
   "source": [
    "# Rigetti Forest"
   ]
  },
  {
   "cell_type": "markdown",
   "metadata": {},
   "source": [
    "## Введение"
   ]
  },
  {
   "cell_type": "code",
   "execution_count": 32,
   "metadata": {},
   "outputs": [
    {
     "name": "stdout",
     "output_type": "stream",
     "text": [
      "{'00': 0.49999999999999989, '01': 0.0, '10': 0.0, '11': 0.49999999999999989}\n"
     ]
    }
   ],
   "source": [
    "from pyquil.quil import Program\n",
    "from pyquil.gates import H, CNOT\n",
    "from pyquil.api import QVMConnection\n",
    "\n",
    "# Создаём объект для квантовой программы.\n",
    "p = Program()\n",
    "\n",
    "# \"Мутирование\" квантовой программы под действием оператора `H(0)` - гейт Адамара, который\n",
    "# действует на нулевой кубит.\n",
    "p.inst(H(0))\n",
    "# Добавление CNOT гейта, который использует нулевой кубит как управляющий, а первый кубит как таргет.\n",
    "p.inst(CNOT(0, 1))\n",
    "\n",
    "# Объект \"квантовой виртуальной машины\" - создаёт соединение с облачным бэкэндом.\n",
    "qvm = QVMConnection()\n",
    "\n",
    "# Запускаем квантовую программу `p` на бэкэнде.\n",
    "result = qvm.wavefunction(p)\n",
    "\n",
    "# Посмотреть на результаты программы в виде \"{'00': p1, '01': p2, ...}\", где p1, p2, ... - вероятности\n",
    "# соответствующих исходов.\n",
    "print(result.get_outcome_probs())"
   ]
  },
  {
   "cell_type": "code",
   "execution_count": 33,
   "metadata": {},
   "outputs": [
    {
     "data": {
      "image/png": "[encoded data removed]",
      "text/plain": [
       "<matplotlib.figure.Figure at 0x10f005828>"
      ]
     },
     "metadata": {},
     "output_type": "display_data"
    }
   ],
   "source": [
    "# Построим гистограмму исходов.\n",
    "result.plot()"
   ]
  },
  {
   "cell_type": "code",
   "execution_count": 34,
   "metadata": {
    "scrolled": true
   },
   "outputs": [
    {
     "data": {
      "text/plain": [
       "'(0.71+0j)|00> + (0.71+0j)|11>'"
      ]
     },
     "execution_count": 34,
     "metadata": {},
     "output_type": "execute_result"
    }
   ],
   "source": [
    "# Ещё один способ представить состояние.\n",
    "result.pretty_print()"
   ]
  },
  {
   "cell_type": "markdown",
   "metadata": {},
   "source": [
    "## Гейты"
   ]
  },
  {
   "cell_type": "code",
   "execution_count": 35,
   "metadata": {},
   "outputs": [
    {
     "name": "stdout",
     "output_type": "stream",
     "text": [
      "[ 1.+0.j  0.+0.j]\n"
     ]
    }
   ],
   "source": [
    "import numpy as np\n",
    "from pyquil.gates import I\n",
    "\n",
    "quantum_simulator = QVMConnection()\n",
    "\n",
    "# Создаём квантовую программу, которая использует один кубит и применяет к нему тождественное преобразование.\n",
    "p = Program(I(0))\n",
    "\n",
    "# После запуска программы на квантовом симуляторе вернётся состояние системы после применения к\n",
    "# кубитам всех операторов из `p`.\n",
    "wavefunction = quantum_simulator.wavefunction(p)\n",
    "\n",
    "# `wavefunction` содержит в себе список амплитуд каждого из базисных состояний.\n",
    "print(wavefunction.amplitudes)"
   ]
  },
  {
   "cell_type": "markdown",
   "metadata": {},
   "source": [
    "$\\newcommand{\\ket}[1]{\\left|{#1}\\right\\rangle} \\newcommand{\\bra}[1]{\\left\\langle{#1}\\right|} \\newcommand{\\braket}[2]{\\left\\langle{#1}\\vert{#2}\\right\\rangle}$\n",
    "Действие тождественного оператора:\n",
    "$$I \\ket{0} = \\begin{pmatrix} 1 & 0 \\\\ 0 & 1 \\end{pmatrix} \\begin{pmatrix} 1 \\\\ 0 \\end{pmatrix} = \\begin{pmatrix} 1 \\\\ 0 \\end{pmatrix} = \\ket{0},$$\n",
    "$$I \\ket{1} = \\begin{pmatrix} 1 & 0 \\\\ 0 & 1 \\end{pmatrix} \\begin{pmatrix} 0 \\\\ 1 \\end{pmatrix} = \\begin{pmatrix} 0 \\\\ 1 \\end{pmatrix} = \\ket{1}.$$"
   ]
  },
  {
   "cell_type": "code",
   "execution_count": 36,
   "metadata": {
    "scrolled": true
   },
   "outputs": [
    {
     "name": "stdout",
     "output_type": "stream",
     "text": [
      "Соответственно наш кубит в состоянии: alpha=(1+0j), beta=0j\n",
      "Вероятность исхода 0: 1.0\n",
      "Вероятность исхода 1: 0.0\n"
     ]
    }
   ],
   "source": [
    "alpha, beta = wavefunction\n",
    "\n",
    "print(\"Соответственно наш кубит в состоянии: alpha={}, beta={}\".format(alpha, beta))\n",
    "print(\"Вероятность исхода 0: {}\".format(abs(alpha)**2))\n",
    "print(\"Вероятность исхода 1: {}\".format(abs(beta)**2))"
   ]
  },
  {
   "cell_type": "markdown",
   "metadata": {},
   "source": [
    "## Гейт X (Оператор NOT)"
   ]
  },
  {
   "cell_type": "markdown",
   "metadata": {},
   "source": [
    "Действие оператора NOT:\n",
    "$$X \\ket{0} = \\begin{pmatrix} 0 & 1 \\\\ 1 & 0 \\end{pmatrix} \\begin{pmatrix} 1 \\\\ 0 \\end{pmatrix} = \\begin{pmatrix} 0 \\\\ 1 \\end{pmatrix} = \\ket{1},$$\n",
    "$$X \\ket{1} = \\begin{pmatrix} 0 & 1 \\\\ 1 & 0 \\end{pmatrix} \\begin{pmatrix} 0 \\\\ 1 \\end{pmatrix} = \\begin{pmatrix} 1 \\\\ 0 \\end{pmatrix} = \\ket{0}.$$"
   ]
  },
  {
   "cell_type": "code",
   "execution_count": 37,
   "metadata": {},
   "outputs": [
    {
     "name": "stdout",
     "output_type": "stream",
     "text": [
      "Волновая функция после применения X к |0>: (1+0j)|1>\n"
     ]
    }
   ],
   "source": [
    "from pyquil.gates import X\n",
    "\n",
    "# Пишем программу, которая состоит из одного оператора - NOT.\n",
    "p = Program(X(0))\n",
    "\n",
    "wavefunc = quantum_simulator.wavefunction(p)\n",
    "alpha, beta = wavefunc\n",
    "\n",
    "print(\"Волновая функция после применения X к |0>: {}\".format(wavefunc))"
   ]
  },
  {
   "cell_type": "code",
   "execution_count": 38,
   "metadata": {},
   "outputs": [
    {
     "name": "stdout",
     "output_type": "stream",
     "text": [
      "{'0': 0.0, '1': 1.0}\n"
     ]
    }
   ],
   "source": [
    "# Посмотреть на вероятности исходов.\n",
    "print(wavefunc.get_outcome_probs())"
   ]
  },
  {
   "cell_type": "markdown",
   "metadata": {},
   "source": [
    "## Гейт CNOT"
   ]
  },
  {
   "cell_type": "code",
   "execution_count": 39,
   "metadata": {},
   "outputs": [
    {
     "name": "stdout",
     "output_type": "stream",
     "text": [
      "CNOT|00> =  (1+0j)|00>\n",
      "CNOT|01> =  (1+0j)|11>\n",
      "CNOT|10> =  (1+0j)|10>\n",
      "CNOT|11> =  (1+0j)|01>\n"
     ]
    }
   ],
   "source": [
    "from pyquil.gates import CNOT\n",
    "\n",
    "# Соответствует применению CNOT к состоянию |00>.\n",
    "p = Program(CNOT(0, 1))\n",
    "wavefunction = quantum_simulator.wavefunction(p)\n",
    "print(\"CNOT|00> =\", wavefunction)\n",
    "\n",
    "# Соответствует применению CNOT к состоянию |01>.\n",
    "p = Program(X(0), CNOT(0, 1))\n",
    "wavefunction = quantum_simulator.wavefunction(p)\n",
    "print(\"CNOT|01> =\", wavefunction)\n",
    "\n",
    "# Соответствует применению CNOT к состоянию |10>.\n",
    "p = Program(X(1), CNOT(0, 1))\n",
    "wavefunction = quantum_simulator.wavefunction(p)\n",
    "print(\"CNOT|10> =\", wavefunction)\n",
    "\n",
    "# Соответствует применению CNOT к состоянию |11>.\n",
    "p = Program(X(0), X(1), CNOT(0, 1))\n",
    "wavefunction = quantum_simulator.wavefunction(p)\n",
    "print(\"CNOT|11> =\", wavefunction)"
   ]
  },
  {
   "cell_type": "markdown",
   "metadata": {},
   "source": [
    "## Гейт SWAP\n",
    "\n",
    "$SWAP = \\begin{pmatrix} 1 & 0 & 0 & 0 \\\\ 0 & 0 & 1 & 0 \\\\ 0 & 1 & 0 & 0 \\\\ 0 & 0 & 0 & 1 \\end{pmatrix}$, меняет состояния $\\ket{10}$ и $\\ket{01}$ местами."
   ]
  },
  {
   "cell_type": "code",
   "execution_count": 40,
   "metadata": {},
   "outputs": [
    {
     "name": "stdout",
     "output_type": "stream",
     "text": [
      "SWAP|00> =  (1+0j)|00>\n",
      "SWAP|01> =  (1+0j)|10>\n",
      "SWAP|10> =  (1+0j)|01>\n",
      "SWAP|11> =  (1+0j)|11>\n"
     ]
    }
   ],
   "source": [
    "from pyquil.gates import SWAP\n",
    "\n",
    "# Соответствует применению SWAP к состоянию |00>.\n",
    "p = Program(SWAP(0, 1))\n",
    "wavefunction = quantum_simulator.wavefunction(p)\n",
    "print(\"SWAP|00> = \", wavefunction)\n",
    "\n",
    "# Соответствует применению SWAP к состоянию |01>.\n",
    "p = Program(X(0), SWAP(0, 1))\n",
    "wavefunction = quantum_simulator.wavefunction(p)\n",
    "print(\"SWAP|01> = \", wavefunction)\n",
    "\n",
    "# Соответствует применению SWAP к состоянию |10>.\n",
    "p = Program(X(1), SWAP(0, 1))\n",
    "wavefunction = quantum_simulator.wavefunction(p)\n",
    "print(\"SWAP|10> = \", wavefunction)\n",
    "\n",
    "# Соответствует применению SWAP к состоянию |11>.\n",
    "p = Program(X(0), X(1), SWAP(0, 1))\n",
    "wavefunction = quantum_simulator.wavefunction(p)\n",
    "print(\"SWAP|11> = \", wavefunction)"
   ]
  },
  {
   "cell_type": "markdown",
   "metadata": {},
   "source": [
    "## Измерение кубита"
   ]
  },
  {
   "cell_type": "code",
   "execution_count": 41,
   "metadata": {},
   "outputs": [
    {
     "data": {
      "text/plain": [
       "<pyquil.quil.Program at 0x10f005240>"
      ]
     },
     "execution_count": 41,
     "metadata": {},
     "output_type": "execute_result"
    }
   ],
   "source": [
    "# Указываем индексы классических регистров для записи.\n",
    "classical_reg_index_0 = 0\n",
    "classical_reg_index_1 = 1\n",
    "\n",
    "# Указываем индексы квантовых регистров для измерения.\n",
    "quantum_reg_index_0 = 0\n",
    "quantum_reg_index_1 = 1\n",
    "\n",
    "# Создаём простую программу, результаты измерений записываем в соответствующие регистры.\n",
    "p = Program(I(0), X(1))\n",
    "\n",
    "p.measure(quantum_reg_index_0, classical_reg_index_0)\n",
    "p.measure(quantum_reg_index_1, classical_reg_index_1)"
   ]
  },
  {
   "cell_type": "code",
   "execution_count": 42,
   "metadata": {},
   "outputs": [
    {
     "name": "stdout",
     "output_type": "stream",
     "text": [
      "[[0, 1], [0, 1], [0, 1], [0, 1]]\n"
     ]
    }
   ],
   "source": [
    "# Указываем классические регистры, состояние которых нам интересно после завершения программы.\n",
    "classical_regs = [0, 1]\n",
    "\n",
    "# Запускаем программу на квантовом симуляторе.\n",
    "print(quantum_simulator.run(p, classical_regs, trials=4))"
   ]
  },
  {
   "cell_type": "markdown",
   "metadata": {},
   "source": [
    "## Гейт Адамара\n",
    "\n",
    "$H = \\frac{1}{\\sqrt{2}}\\begin{pmatrix} 1 & 1 \\\\ 1 & -1 \\end{pmatrix}$:\n",
    "\n",
    "$$H\\ket{0} = \\frac{1}{\\sqrt{2}}\\begin{pmatrix} 1 & 1 \\\\ 1 & -1 \\end{pmatrix} \\begin{pmatrix} 1 \\\\ 0 \\end{pmatrix} = \\frac{1}{\\sqrt{2}} \\begin{pmatrix} 1 \\\\ 1 \\end{pmatrix} = \\frac{1}{\\sqrt{2}} \\left(\\ket{0} + \\ket{1}\\right) = \\ket{+},$$\n",
    "\n",
    "$$H\\ket{1} = \\frac{1}{\\sqrt{2}}\\begin{pmatrix} 1 & 1 \\\\ 1 & -1 \\end{pmatrix} \\begin{pmatrix} 0 \\\\ 1 \\end{pmatrix} = \\frac{1}{\\sqrt{2}} \\begin{pmatrix} 1 \\\\ -1 \\end{pmatrix} = \\frac{1}{\\sqrt{2}} \\left(\\ket{0} - \\ket{1}\\right) = \\ket{-}.$$"
   ]
  },
  {
   "cell_type": "code",
   "execution_count": 43,
   "metadata": {},
   "outputs": [
    {
     "name": "stdout",
     "output_type": "stream",
     "text": [
      "H|0> =  (0.7071067812+0j)|0> + (0.7071067812+0j)|1>\n",
      "Вероятности исходов: {'0': 0.49999999999999989, '1': 0.49999999999999989}\n"
     ]
    }
   ],
   "source": [
    "from pyquil.gates import H\n",
    "\n",
    "program = Program(H(0))\n",
    "wavefunction = quantum_simulator.wavefunction(program)\n",
    "\n",
    "print(\"H|0> = \", wavefunction)\n",
    "print(\"Вероятности исходов:\", wavefunction.get_outcome_probs())"
   ]
  },
  {
   "cell_type": "code",
   "execution_count": 45,
   "metadata": {},
   "outputs": [
    {
     "name": "stdout",
     "output_type": "stream",
     "text": [
      "[[1], [1], [0], [1], [0], [1], [0], [0], [1], [0]]\n"
     ]
    }
   ],
   "source": [
    "# Запустим на симуляторе.\n",
    "program = Program(H(0)).measure(0, 0)\n",
    "result = quantum_simulator.run(program, [0], trials=10)\n",
    "print(result)"
   ]
  },
  {
   "cell_type": "code",
   "execution_count": 46,
   "metadata": {},
   "outputs": [
    {
     "name": "stdout",
     "output_type": "stream",
     "text": [
      "H 0\n",
      "MEASURE 0 [0]\n",
      "\n"
     ]
    }
   ],
   "source": [
    "print(program)"
   ]
  },
  {
   "cell_type": "markdown",
   "metadata": {},
   "source": [
    "# 19Q"
   ]
  },
  {
   "cell_type": "code",
   "execution_count": 6,
   "metadata": {},
   "outputs": [
    {
     "name": "stdout",
     "output_type": "stream",
     "text": [
      "Device 19Q-Acorn is online\n"
     ]
    }
   ],
   "source": [
    "# DON'T HAVE ACCESS TO 19Q CHIP :(\n",
    "\n",
    "# from pyquil.api import get_devices\n",
    "# for device in get_devices():\n",
    "#     if device.is_online():\n",
    "#         print('Device {} is online'.format(device.name))"
   ]
  },
  {
   "cell_type": "code",
   "execution_count": 3,
   "metadata": {
    "collapsed": true
   },
   "outputs": [],
   "source": [
    "# DON'T HAVE ACCESS TO 19Q CHIP :(\n",
    "\n",
    "# from pyquil.quil import Program\n",
    "# import pyquil.api as api\n",
    "# from pyquil.gates import *\n",
    "# qpu = api.QPUConnection('19Q-Acorn')\n",
    "# p = Program(H(0), CNOT(0, 1), MEASURE(0, 0), MEASURE(1, 1))\n",
    "# qpu.run_and_measure(p, [0, 1], 1000)"
   ]
  },
  {
   "cell_type": "markdown",
   "metadata": {},
   "source": [
    "## Реализация квантовых цепей\n",
    "\n",
    "<img src=\"img/circuits.jpg\" width=\"250px\">"
   ]
  },
  {
   "cell_type": "code",
   "execution_count": 68,
   "metadata": {},
   "outputs": [
    {
     "data": {
      "image/png": "[encoded data removed]",
      "text/plain": [
       "<matplotlib.figure.Figure at 0x10f8514a8>"
      ]
     },
     "metadata": {},
     "output_type": "display_data"
    },
    {
     "name": "stdout",
     "output_type": "stream",
     "text": [
      "[[0], [0], [0], [0], [0], [0], [0], [0], [0], [0]]\n"
     ]
    }
   ],
   "source": [
    "# Первая цепь.\n",
    "program = Program()\n",
    "\n",
    "result = qvm.wavefunction(program)\n",
    "result.plot()\n",
    "\n",
    "program.measure(0, 0)\n",
    "result = quantum_simulator.run(program, classical_addresses=[0], trials=10)\n",
    "print(result)"
   ]
  },
  {
   "cell_type": "code",
   "execution_count": 69,
   "metadata": {},
   "outputs": [
    {
     "data": {
      "image/png": "[encoded data removed]",
      "text/plain": [
       "<matplotlib.figure.Figure at 0x10f8dfac8>"
      ]
     },
     "metadata": {},
     "output_type": "display_data"
    },
    {
     "name": "stdout",
     "output_type": "stream",
     "text": [
      "[[1], [1], [1], [1], [1], [1], [1], [1], [1], [1]]\n"
     ]
    }
   ],
   "source": [
    "# Вторая цепь.\n",
    "program = Program(X(0))\n",
    "\n",
    "result = qvm.wavefunction(program)\n",
    "result.plot()\n",
    "\n",
    "program.measure(0, 0)\n",
    "result = quantum_simulator.run(program, classical_addresses=[0], trials=10)\n",
    "print(result)"
   ]
  },
  {
   "cell_type": "code",
   "execution_count": 70,
   "metadata": {},
   "outputs": [
    {
     "data": {
      "image/png": "[encoded data removed]",
      "text/plain": [
       "<matplotlib.figure.Figure at 0x10f83aeb8>"
      ]
     },
     "metadata": {},
     "output_type": "display_data"
    },
    {
     "name": "stdout",
     "output_type": "stream",
     "text": [
      "[[1], [1], [1], [1], [0], [1], [0], [0], [0], [0]]\n"
     ]
    }
   ],
   "source": [
    "# Третья цепь.\n",
    "program = Program(H(0))\n",
    "\n",
    "result = qvm.wavefunction(program)\n",
    "result.plot()\n",
    "\n",
    "program.measure(0, 0)\n",
    "result = quantum_simulator.run(program, classical_addresses=[0], trials=10)\n",
    "print(result)"
   ]
  },
  {
   "cell_type": "code",
   "execution_count": 71,
   "metadata": {},
   "outputs": [
    {
     "data": {
      "image/png": "[encoded data removed]",
      "text/plain": [
       "<matplotlib.figure.Figure at 0x10f6c07b8>"
      ]
     },
     "metadata": {},
     "output_type": "display_data"
    },
    {
     "name": "stdout",
     "output_type": "stream",
     "text": [
      "[[1, 0], [1, 0], [1, 0], [1, 0], [1, 0], [1, 0], [1, 0], [1, 0], [1, 0], [1, 0]]\n"
     ]
    }
   ],
   "source": [
    "# Четвёртая цепь.\n",
    "#                 управляющий------v  v----таргет\n",
    "program = Program(X(0), X(1), CNOT(0, 1))\n",
    "\n",
    "result = qvm.wavefunction(program)\n",
    "result.plot()\n",
    "\n",
    "program.measure(0, 0).measure(1, 1)\n",
    "result = quantum_simulator.run(program, classical_addresses=[0, 1], trials=10)\n",
    "print(result)"
   ]
  },
  {
   "cell_type": "code",
   "execution_count": 72,
   "metadata": {},
   "outputs": [
    {
     "data": {
      "image/png": "[encoded data removed]",
      "text/plain": [
       "<matplotlib.figure.Figure at 0x10c787ef0>"
      ]
     },
     "metadata": {},
     "output_type": "display_data"
    },
    {
     "name": "stdout",
     "output_type": "stream",
     "text": [
      "[[1, 0], [0, 1], [1, 0], [0, 1], [1, 0], [0, 1], [1, 0], [1, 0], [0, 1], [0, 1]]\n"
     ]
    }
   ],
   "source": [
    "# Пятая цепь.\n",
    "#                 управляющий------v  v----таргет\n",
    "program = Program(H(0), X(1), CNOT(0, 1))\n",
    "\n",
    "result = qvm.wavefunction(program)\n",
    "result.plot()\n",
    "\n",
    "program.measure(0, 0).measure(1, 1)\n",
    "result = quantum_simulator.run(program, classical_addresses=[0, 1], trials=10)\n",
    "print(result)"
   ]
  },
  {
   "cell_type": "markdown",
   "metadata": {},
   "source": [
    "- [ ] linear Algebra\n",
    "- [ ] stepik\n",
    "- [ ] полезные курсы\n",
    "- [ ] вопросник"
   ]
  }
 ],
 "metadata": {
  "kernelspec": {
   "display_name": "Python 3",
   "language": "python",
   "name": "python3"
  },
  "language_info": {
   "codemirror_mode": {
    "name": "ipython",
    "version": 3
   },
   "file_extension": ".py",
   "mimetype": "text/x-python",
   "name": "python",
   "nbconvert_exporter": "python",
   "pygments_lexer": "ipython3",
   "version": "3.6.4"
  }
 },
 "nbformat": 4,
 "nbformat_minor": 2
}
